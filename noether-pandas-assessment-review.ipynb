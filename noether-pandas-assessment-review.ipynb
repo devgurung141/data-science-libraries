{
 "cells": [
  {
   "cell_type": "markdown",
   "id": "898c9135",
   "metadata": {},
   "source": [
    "### Format\n",
    "\n",
    "- 10 questions worth 10 points each.\n",
    "\n",
    "- Do not share answers or collaborate. \n",
    "\n",
    "- Open access to resources (online, notes, documentation)\n",
    "\n"
   ]
  },
  {
   "cell_type": "markdown",
   "id": "cb3c42a2",
   "metadata": {},
   "source": [
    "### Example function\n",
    "\n",
    "\n",
    "```python\n",
    "def double_number(a):\n",
    "    return a*2\n",
    "    \n",
    "```\n",
    "\n",
    "\n",
    "\n"
   ]
  },
  {
   "cell_type": "markdown",
   "id": "7d7cdbfa",
   "metadata": {},
   "source": [
    "## Discussion \n",
    "\n",
    "\n",
    "#### 1. What is a dataframe?\n",
    "\n",
    "\n",
    "#### 2. What information can we obtain about a dataframe?\n",
    "\n",
    "\n",
    "#### 3. How have we interacted with a dataframe?\n",
    "\n"
   ]
  },
  {
   "cell_type": "markdown",
   "id": "3f62c7ba",
   "metadata": {},
   "source": [
    "### Practice Exercises\n",
    "\n",
    "1. Load the dataframe 'pokemon' from pydataset\n",
    "\n",
    "2. Obtain the following information:\n",
    "    \n",
    "    - dimensions\n",
    "    - dtypes\n",
    "    - column names\n",
    "    - summary statistics\n",
    "    \n",
    "\n",
    "---\n",
    "\n",
    "#### Highest and lowest values\n",
    "\n",
    "\n",
    "1. What is the highest HP value present?\n",
    "\n",
    "    - Create a function named highest_attack.\n",
    "    - Use the loaded dataframe as an argument. \n",
    "\n",
    "\n",
    "2. Which Pokemon possess(es) the highest HP value?\n",
    "\n",
    " \n",
    "3. How many different types are represented in Type 1?\n",
    "\n",
    "    - Create a function named num_types\n",
    "    - Use the loaded dataframe as an argument\n",
    "    \n",
    "\n",
    "4. Number of Pokemon whose Type 2 is Ghost\n",
    "\n",
    "\n",
    "5. Percentage of Pokemon whose Type 2 is Ghost\n",
    "\n",
    "    - Create a function named percent_ghost\n",
    "     - Use the loaded dataframe as an argument\n",
    "\n",
    "\n",
    "6. Number of Pokemon whose Attack is greater than Defense\n",
    "\n",
    "\n",
    "7. Highest 'Total' value of the Psychic Type 2 \n",
    "\n",
    "\n",
    "8. Lowest speed for Grass or Rock\n",
    "\n",
    "\n",
    "9. Average speed by Generation\n",
    "\n",
    "\n",
    "10. Convert all the column names to lowercase letters\n",
    "\n",
    "\n",
    "11. Rename Sp. Attack to special-attack\n",
    "\n",
    "\n",
    "12. Rename Sp. Def to special-defense\n",
    "\n",
    "    \n",
    "13. Which Pokemon has/have the greatest difference in: \n",
    "\n",
    "    - Attack and Defense points\n",
    "    - Special Attack and Special Defense\n",
    "  \n",
    "\n",
    "14. How many Pokemon are of Type 1 Rock and Type 2 Fairy\n",
    "\n",
    "\n",
    "15. Which Pokemon has appears last alphabetically?\n",
    "\n",
    "    - Create a function named last_pokemon\n",
    "    - Use the loaded dataframe as an argument\n",
    "\n",
    "\n",
    "---\n",
    "\n",
    "\n",
    "Bonus: \n",
    "\n",
    "Create a function which acccepts: \n",
    "\n",
    "- a dataframe\n",
    "- two different Pokemon stats e.g. Attack and Defense\n",
    "\n",
    "\n",
    "The function will:\n",
    "\n",
    "- Calculate difference between the two given Pokemon stats \n",
    "\n",
    "- Create a column which contains the difference of the two given Pokemon stats named stats-diff\n",
    "\n",
    "\n",
    "\n",
    "\n",
    "\n",
    "\n",
    "\n"
   ]
  },
  {
   "cell_type": "markdown",
   "id": "464079db",
   "metadata": {},
   "source": [
    "### Define a function with the parameter a\n",
    "\n",
    "```\n",
    "def double_number(a):\n",
    "    return a*2\n",
    "```"
   ]
  },
  {
   "cell_type": "code",
   "execution_count": 247,
   "id": "b96025fe",
   "metadata": {},
   "outputs": [],
   "source": [
    "import pandas as pd\n",
    "import numpy as np\n",
    "from pydataset import data"
   ]
  },
  {
   "cell_type": "code",
   "execution_count": 248,
   "id": "f69c59f6",
   "metadata": {},
   "outputs": [],
   "source": [
    "df = pd.read_csv('pokemon_data.csv')"
   ]
  },
  {
   "cell_type": "code",
   "execution_count": 249,
   "id": "f3b60569",
   "metadata": {},
   "outputs": [
    {
     "data": {
      "text/html": [
       "<div>\n",
       "<style scoped>\n",
       "    .dataframe tbody tr th:only-of-type {\n",
       "        vertical-align: middle;\n",
       "    }\n",
       "\n",
       "    .dataframe tbody tr th {\n",
       "        vertical-align: top;\n",
       "    }\n",
       "\n",
       "    .dataframe thead th {\n",
       "        text-align: right;\n",
       "    }\n",
       "</style>\n",
       "<table border=\"1\" class=\"dataframe\">\n",
       "  <thead>\n",
       "    <tr style=\"text-align: right;\">\n",
       "      <th></th>\n",
       "      <th>#</th>\n",
       "      <th>HP</th>\n",
       "      <th>Attack</th>\n",
       "      <th>Defense</th>\n",
       "      <th>Sp. Atk</th>\n",
       "      <th>Sp. Def</th>\n",
       "      <th>Speed</th>\n",
       "      <th>Generation</th>\n",
       "    </tr>\n",
       "  </thead>\n",
       "  <tbody>\n",
       "    <tr>\n",
       "      <th>count</th>\n",
       "      <td>800.000000</td>\n",
       "      <td>800.000000</td>\n",
       "      <td>800.000000</td>\n",
       "      <td>800.000000</td>\n",
       "      <td>800.000000</td>\n",
       "      <td>800.000000</td>\n",
       "      <td>800.000000</td>\n",
       "      <td>800.00000</td>\n",
       "    </tr>\n",
       "    <tr>\n",
       "      <th>mean</th>\n",
       "      <td>362.813750</td>\n",
       "      <td>69.258750</td>\n",
       "      <td>79.001250</td>\n",
       "      <td>73.842500</td>\n",
       "      <td>72.820000</td>\n",
       "      <td>71.902500</td>\n",
       "      <td>68.277500</td>\n",
       "      <td>3.32375</td>\n",
       "    </tr>\n",
       "    <tr>\n",
       "      <th>std</th>\n",
       "      <td>208.343798</td>\n",
       "      <td>25.534669</td>\n",
       "      <td>32.457366</td>\n",
       "      <td>31.183501</td>\n",
       "      <td>32.722294</td>\n",
       "      <td>27.828916</td>\n",
       "      <td>29.060474</td>\n",
       "      <td>1.66129</td>\n",
       "    </tr>\n",
       "    <tr>\n",
       "      <th>min</th>\n",
       "      <td>1.000000</td>\n",
       "      <td>1.000000</td>\n",
       "      <td>5.000000</td>\n",
       "      <td>5.000000</td>\n",
       "      <td>10.000000</td>\n",
       "      <td>20.000000</td>\n",
       "      <td>5.000000</td>\n",
       "      <td>1.00000</td>\n",
       "    </tr>\n",
       "    <tr>\n",
       "      <th>25%</th>\n",
       "      <td>184.750000</td>\n",
       "      <td>50.000000</td>\n",
       "      <td>55.000000</td>\n",
       "      <td>50.000000</td>\n",
       "      <td>49.750000</td>\n",
       "      <td>50.000000</td>\n",
       "      <td>45.000000</td>\n",
       "      <td>2.00000</td>\n",
       "    </tr>\n",
       "    <tr>\n",
       "      <th>50%</th>\n",
       "      <td>364.500000</td>\n",
       "      <td>65.000000</td>\n",
       "      <td>75.000000</td>\n",
       "      <td>70.000000</td>\n",
       "      <td>65.000000</td>\n",
       "      <td>70.000000</td>\n",
       "      <td>65.000000</td>\n",
       "      <td>3.00000</td>\n",
       "    </tr>\n",
       "    <tr>\n",
       "      <th>75%</th>\n",
       "      <td>539.250000</td>\n",
       "      <td>80.000000</td>\n",
       "      <td>100.000000</td>\n",
       "      <td>90.000000</td>\n",
       "      <td>95.000000</td>\n",
       "      <td>90.000000</td>\n",
       "      <td>90.000000</td>\n",
       "      <td>5.00000</td>\n",
       "    </tr>\n",
       "    <tr>\n",
       "      <th>max</th>\n",
       "      <td>721.000000</td>\n",
       "      <td>255.000000</td>\n",
       "      <td>190.000000</td>\n",
       "      <td>230.000000</td>\n",
       "      <td>194.000000</td>\n",
       "      <td>230.000000</td>\n",
       "      <td>180.000000</td>\n",
       "      <td>6.00000</td>\n",
       "    </tr>\n",
       "  </tbody>\n",
       "</table>\n",
       "</div>"
      ],
      "text/plain": [
       "                #          HP      Attack     Defense     Sp. Atk     Sp. Def  \\\n",
       "count  800.000000  800.000000  800.000000  800.000000  800.000000  800.000000   \n",
       "mean   362.813750   69.258750   79.001250   73.842500   72.820000   71.902500   \n",
       "std    208.343798   25.534669   32.457366   31.183501   32.722294   27.828916   \n",
       "min      1.000000    1.000000    5.000000    5.000000   10.000000   20.000000   \n",
       "25%    184.750000   50.000000   55.000000   50.000000   49.750000   50.000000   \n",
       "50%    364.500000   65.000000   75.000000   70.000000   65.000000   70.000000   \n",
       "75%    539.250000   80.000000  100.000000   90.000000   95.000000   90.000000   \n",
       "max    721.000000  255.000000  190.000000  230.000000  194.000000  230.000000   \n",
       "\n",
       "            Speed  Generation  \n",
       "count  800.000000   800.00000  \n",
       "mean    68.277500     3.32375  \n",
       "std     29.060474     1.66129  \n",
       "min      5.000000     1.00000  \n",
       "25%     45.000000     2.00000  \n",
       "50%     65.000000     3.00000  \n",
       "75%     90.000000     5.00000  \n",
       "max    180.000000     6.00000  "
      ]
     },
     "execution_count": 249,
     "metadata": {},
     "output_type": "execute_result"
    }
   ],
   "source": [
    "df.describe()"
   ]
  },
  {
   "cell_type": "code",
   "execution_count": 250,
   "id": "39a34c53",
   "metadata": {},
   "outputs": [
    {
     "data": {
      "text/plain": [
       "255"
      ]
     },
     "execution_count": 250,
     "metadata": {},
     "output_type": "execute_result"
    }
   ],
   "source": [
    "# 1. What is the highest HP value present?\n",
    "df.HP.max()"
   ]
  },
  {
   "cell_type": "code",
   "execution_count": 251,
   "id": "5f5ace41",
   "metadata": {},
   "outputs": [
    {
     "data": {
      "text/html": [
       "<div>\n",
       "<style scoped>\n",
       "    .dataframe tbody tr th:only-of-type {\n",
       "        vertical-align: middle;\n",
       "    }\n",
       "\n",
       "    .dataframe tbody tr th {\n",
       "        vertical-align: top;\n",
       "    }\n",
       "\n",
       "    .dataframe thead th {\n",
       "        text-align: right;\n",
       "    }\n",
       "</style>\n",
       "<table border=\"1\" class=\"dataframe\">\n",
       "  <thead>\n",
       "    <tr style=\"text-align: right;\">\n",
       "      <th></th>\n",
       "      <th>#</th>\n",
       "      <th>Name</th>\n",
       "      <th>Type 1</th>\n",
       "      <th>Type 2</th>\n",
       "      <th>HP</th>\n",
       "      <th>Attack</th>\n",
       "      <th>Defense</th>\n",
       "      <th>Sp. Atk</th>\n",
       "      <th>Sp. Def</th>\n",
       "      <th>Speed</th>\n",
       "      <th>Generation</th>\n",
       "      <th>Legendary</th>\n",
       "    </tr>\n",
       "  </thead>\n",
       "  <tbody>\n",
       "    <tr>\n",
       "      <th>261</th>\n",
       "      <td>242</td>\n",
       "      <td>Blissey</td>\n",
       "      <td>Normal</td>\n",
       "      <td>NaN</td>\n",
       "      <td>255</td>\n",
       "      <td>10</td>\n",
       "      <td>10</td>\n",
       "      <td>75</td>\n",
       "      <td>135</td>\n",
       "      <td>55</td>\n",
       "      <td>2</td>\n",
       "      <td>False</td>\n",
       "    </tr>\n",
       "  </tbody>\n",
       "</table>\n",
       "</div>"
      ],
      "text/plain": [
       "       #     Name  Type 1 Type 2   HP  Attack  Defense  Sp. Atk  Sp. Def  \\\n",
       "261  242  Blissey  Normal    NaN  255      10       10       75      135   \n",
       "\n",
       "     Speed  Generation  Legendary  \n",
       "261     55           2      False  "
      ]
     },
     "execution_count": 251,
     "metadata": {},
     "output_type": "execute_result"
    }
   ],
   "source": [
    "# 2. Which Pokemon possess(es) the highest HP value?\n",
    "df.nlargest(1, 'HP')"
   ]
  },
  {
   "cell_type": "code",
   "execution_count": 252,
   "id": "b2cb6893",
   "metadata": {},
   "outputs": [
    {
     "data": {
      "text/plain": [
       "18"
      ]
     },
     "execution_count": 252,
     "metadata": {},
     "output_type": "execute_result"
    }
   ],
   "source": [
    "# 3. How many different types are represented in Type 1?\n",
    "df['Type 1'].nunique()  # gives int"
   ]
  },
  {
   "cell_type": "code",
   "execution_count": 253,
   "id": "3a96bb2b",
   "metadata": {},
   "outputs": [
    {
     "data": {
      "text/plain": [
       "array(['Bug', 'Dark', 'Dragon', 'Electric', 'Fairy', 'Fighting', 'Fire',\n",
       "       'Flying', 'Ghost', 'Grass', 'Ground', 'Ice', 'Normal', 'Poison',\n",
       "       'Psychic', 'Rock', 'Steel', 'Water'], dtype=object)"
      ]
     },
     "execution_count": 253,
     "metadata": {},
     "output_type": "execute_result"
    }
   ],
   "source": [
    "df['Type 1'].sort_values().unique()  #  gives numpy.ndarray"
   ]
  },
  {
   "cell_type": "code",
   "execution_count": 254,
   "id": "4ef3f077",
   "metadata": {},
   "outputs": [
    {
     "data": {
      "text/plain": [
       "600      Bug\n",
       "136      Bug\n",
       "457      Bug\n",
       "132      Bug\n",
       "656      Bug\n",
       "       ...  \n",
       "172    Water\n",
       "610    Water\n",
       "145    Water\n",
       "574    Water\n",
       "184    Water\n",
       "Name: Type 1, Length: 800, dtype: object"
      ]
     },
     "execution_count": 254,
     "metadata": {},
     "output_type": "execute_result"
    }
   ],
   "source": [
    "df['Type 1'].sort_values()  #  gives series"
   ]
  },
  {
   "cell_type": "code",
   "execution_count": 255,
   "id": "2d8cc063",
   "metadata": {},
   "outputs": [
    {
     "data": {
      "text/plain": [
       "array(['Grass', 'Fire', 'Water', 'Bug', 'Normal', 'Poison', 'Electric',\n",
       "       'Ground', 'Fairy', 'Fighting', 'Psychic', 'Rock', 'Ghost', 'Ice',\n",
       "       'Dragon', 'Dark', 'Steel', 'Flying'], dtype=object)"
      ]
     },
     "execution_count": 255,
     "metadata": {},
     "output_type": "execute_result"
    }
   ],
   "source": [
    "df['Type 1'].unique()  #  gives numpy.ndarray"
   ]
  },
  {
   "cell_type": "code",
   "execution_count": 256,
   "id": "2a42bbe5",
   "metadata": {},
   "outputs": [
    {
     "data": {
      "text/plain": [
       "14"
      ]
     },
     "execution_count": 256,
     "metadata": {},
     "output_type": "execute_result"
    }
   ],
   "source": [
    "# 4. Number of Pokemon whose Type 2 is Ghost\n",
    "len(df[df['Type 2'] == 'Ghost'])"
   ]
  },
  {
   "cell_type": "code",
   "execution_count": 257,
   "id": "c21ee69d",
   "metadata": {},
   "outputs": [
    {
     "data": {
      "text/plain": [
       "1.7500000000000002"
      ]
     },
     "execution_count": 257,
     "metadata": {},
     "output_type": "execute_result"
    }
   ],
   "source": [
    "# 5. Percentage of Pokemon whose Type 2 is Ghost\n",
    "(len(df[df['Type 2'] == 'Ghost']) / len(df.index)) * 100"
   ]
  },
  {
   "cell_type": "code",
   "execution_count": 258,
   "id": "5b80c22f",
   "metadata": {},
   "outputs": [
    {
     "data": {
      "text/plain": [
       "RangeIndex(start=0, stop=800, step=1)"
      ]
     },
     "execution_count": 258,
     "metadata": {},
     "output_type": "execute_result"
    }
   ],
   "source": [
    "df.index"
   ]
  },
  {
   "cell_type": "code",
   "execution_count": 259,
   "id": "6362c9e7",
   "metadata": {},
   "outputs": [
    {
     "data": {
      "text/plain": [
       "800"
      ]
     },
     "execution_count": 259,
     "metadata": {},
     "output_type": "execute_result"
    }
   ],
   "source": [
    "df.shape[0]"
   ]
  },
  {
   "cell_type": "code",
   "execution_count": 260,
   "id": "69bd396f",
   "metadata": {},
   "outputs": [
    {
     "data": {
      "text/plain": [
       "338"
      ]
     },
     "execution_count": 260,
     "metadata": {},
     "output_type": "execute_result"
    }
   ],
   "source": [
    "# 6. Number of Pokemon whose Attack is greater than Defense\n",
    "len(df[df['Sp. Atk'] > df['Sp. Def']])"
   ]
  },
  {
   "cell_type": "code",
   "execution_count": 261,
   "id": "46ea4987",
   "metadata": {},
   "outputs": [
    {
     "name": "stderr",
     "output_type": "stream",
     "text": [
      "/var/folders/zx/rl1648955j94d0gt7b_0rshh0000gn/T/ipykernel_63280/4087009502.py:2: FutureWarning: Dropping of nuisance columns in DataFrame reductions (with 'numeric_only=None') is deprecated; in a future version this will raise TypeError.  Select only valid columns before calling the reduction.\n",
      "  df[df['Type 1'].isin(['Grass', 'Rock'])].min()\n"
     ]
    },
    {
     "data": {
      "text/plain": [
       "#                     1\n",
       "Name          Abomasnow\n",
       "Type 1            Grass\n",
       "HP                   30\n",
       "Attack               27\n",
       "Defense              30\n",
       "Sp. Atk              10\n",
       "Sp. Def              25\n",
       "Speed                10\n",
       "Generation            1\n",
       "Legendary         False\n",
       "dtype: object"
      ]
     },
     "execution_count": 261,
     "metadata": {},
     "output_type": "execute_result"
    }
   ],
   "source": [
    "# 8. Lowest speed for Grass or Rock\n",
    "df[df['Type 1'].isin(['Grass', 'Rock'])].min()"
   ]
  },
  {
   "cell_type": "code",
   "execution_count": 262,
   "id": "153e6b4d",
   "metadata": {},
   "outputs": [
    {
     "data": {
      "text/plain": [
       "Generation\n",
       "1    72.584337\n",
       "2    61.811321\n",
       "3    66.925000\n",
       "4    71.338843\n",
       "5    68.078788\n",
       "6    66.439024\n",
       "Name: Speed, dtype: float64"
      ]
     },
     "execution_count": 262,
     "metadata": {},
     "output_type": "execute_result"
    }
   ],
   "source": [
    "# 9. Average speed by Generation\n",
    "df.groupby('Generation')['Speed'].agg('mean')"
   ]
  },
  {
   "cell_type": "code",
   "execution_count": 263,
   "id": "8dedebfd",
   "metadata": {},
   "outputs": [],
   "source": [
    "# 10. Convert all the column names to lowercase letters\n",
    "df.columns = df.columns.str.lower()"
   ]
  },
  {
   "cell_type": "code",
   "execution_count": 264,
   "id": "d0bb10ca",
   "metadata": {},
   "outputs": [
    {
     "data": {
      "text/plain": [
       "Index(['#', 'name', 'type 1', 'type 2', 'hp', 'attack', 'defense', 'sp. atk',\n",
       "       'sp. def', 'speed', 'generation', 'legendary'],\n",
       "      dtype='object')"
      ]
     },
     "execution_count": 264,
     "metadata": {},
     "output_type": "execute_result"
    }
   ],
   "source": [
    " df.columns"
   ]
  },
  {
   "cell_type": "code",
   "execution_count": 265,
   "id": "f16cc071",
   "metadata": {},
   "outputs": [],
   "source": [
    "# 11. Rename Sp. Attack to special-attack\n",
    "# 12. Rename Sp. Def to special-defense\n",
    "df.rename(columns = {'sp. atk':'special-attack', 'sp. def': 'special-defense'}, inplace=True)"
   ]
  },
  {
   "cell_type": "code",
   "execution_count": 266,
   "id": "40faf0a1",
   "metadata": {},
   "outputs": [
    {
     "data": {
      "text/html": [
       "<div>\n",
       "<style scoped>\n",
       "    .dataframe tbody tr th:only-of-type {\n",
       "        vertical-align: middle;\n",
       "    }\n",
       "\n",
       "    .dataframe tbody tr th {\n",
       "        vertical-align: top;\n",
       "    }\n",
       "\n",
       "    .dataframe thead th {\n",
       "        text-align: right;\n",
       "    }\n",
       "</style>\n",
       "<table border=\"1\" class=\"dataframe\">\n",
       "  <thead>\n",
       "    <tr style=\"text-align: right;\">\n",
       "      <th></th>\n",
       "      <th>#</th>\n",
       "      <th>name</th>\n",
       "      <th>type 1</th>\n",
       "      <th>type 2</th>\n",
       "      <th>hp</th>\n",
       "      <th>attack</th>\n",
       "      <th>defense</th>\n",
       "      <th>special-attack</th>\n",
       "      <th>special-defense</th>\n",
       "      <th>speed</th>\n",
       "      <th>generation</th>\n",
       "      <th>legendary</th>\n",
       "    </tr>\n",
       "  </thead>\n",
       "  <tbody>\n",
       "    <tr>\n",
       "      <th>0</th>\n",
       "      <td>1</td>\n",
       "      <td>Bulbasaur</td>\n",
       "      <td>Grass</td>\n",
       "      <td>Poison</td>\n",
       "      <td>45</td>\n",
       "      <td>49</td>\n",
       "      <td>49</td>\n",
       "      <td>65</td>\n",
       "      <td>65</td>\n",
       "      <td>45</td>\n",
       "      <td>1</td>\n",
       "      <td>False</td>\n",
       "    </tr>\n",
       "  </tbody>\n",
       "</table>\n",
       "</div>"
      ],
      "text/plain": [
       "   #       name type 1  type 2  hp  attack  defense  special-attack  \\\n",
       "0  1  Bulbasaur  Grass  Poison  45      49       49              65   \n",
       "\n",
       "   special-defense  speed  generation  legendary  \n",
       "0               65     45           1      False  "
      ]
     },
     "execution_count": 266,
     "metadata": {},
     "output_type": "execute_result"
    }
   ],
   "source": [
    "df.head(1)"
   ]
  },
  {
   "cell_type": "code",
   "execution_count": 276,
   "id": "f7941569",
   "metadata": {},
   "outputs": [],
   "source": [
    "# 13. Which Pokemon has/have the greatest difference in:\n",
    "#     Attack and Defense points\n",
    "#     Special Attack and Special Defense\n",
    "    \n",
    "df['attack_defense'] = abs(df.attack - df.defense)\n",
    "df['sp_attack_defense'] = abs(df['special-attack'] - df['special-defense'])"
   ]
  },
  {
   "cell_type": "code",
   "execution_count": 277,
   "id": "5cf682e4",
   "metadata": {},
   "outputs": [
    {
     "data": {
      "text/html": [
       "<div>\n",
       "<style scoped>\n",
       "    .dataframe tbody tr th:only-of-type {\n",
       "        vertical-align: middle;\n",
       "    }\n",
       "\n",
       "    .dataframe tbody tr th {\n",
       "        vertical-align: top;\n",
       "    }\n",
       "\n",
       "    .dataframe thead th {\n",
       "        text-align: right;\n",
       "    }\n",
       "</style>\n",
       "<table border=\"1\" class=\"dataframe\">\n",
       "  <thead>\n",
       "    <tr style=\"text-align: right;\">\n",
       "      <th></th>\n",
       "      <th>#</th>\n",
       "      <th>name</th>\n",
       "      <th>type 1</th>\n",
       "      <th>type 2</th>\n",
       "      <th>hp</th>\n",
       "      <th>attack</th>\n",
       "      <th>defense</th>\n",
       "      <th>special-attack</th>\n",
       "      <th>special-defense</th>\n",
       "      <th>speed</th>\n",
       "      <th>generation</th>\n",
       "      <th>legendary</th>\n",
       "      <th>attack_defense</th>\n",
       "      <th>sp_attack_defense</th>\n",
       "      <th>stats-diff</th>\n",
       "    </tr>\n",
       "  </thead>\n",
       "  <tbody>\n",
       "    <tr>\n",
       "      <th>230</th>\n",
       "      <td>213</td>\n",
       "      <td>Shuckle</td>\n",
       "      <td>Bug</td>\n",
       "      <td>Rock</td>\n",
       "      <td>20</td>\n",
       "      <td>10</td>\n",
       "      <td>230</td>\n",
       "      <td>10</td>\n",
       "      <td>230</td>\n",
       "      <td>5</td>\n",
       "      <td>2</td>\n",
       "      <td>False</td>\n",
       "      <td>220</td>\n",
       "      <td>220</td>\n",
       "      <td>-220</td>\n",
       "    </tr>\n",
       "  </tbody>\n",
       "</table>\n",
       "</div>"
      ],
      "text/plain": [
       "       #     name type 1 type 2  hp  attack  defense  special-attack  \\\n",
       "230  213  Shuckle    Bug   Rock  20      10      230              10   \n",
       "\n",
       "     special-defense  speed  generation  legendary  attack_defense  \\\n",
       "230              230      5           2      False             220   \n",
       "\n",
       "     sp_attack_defense  stats-diff  \n",
       "230                220        -220  "
      ]
     },
     "execution_count": 277,
     "metadata": {},
     "output_type": "execute_result"
    }
   ],
   "source": [
    "df.nlargest(1,'sp_attack_defense')"
   ]
  },
  {
   "cell_type": "code",
   "execution_count": 278,
   "id": "e33eca3e",
   "metadata": {},
   "outputs": [
    {
     "data": {
      "text/html": [
       "<div>\n",
       "<style scoped>\n",
       "    .dataframe tbody tr th:only-of-type {\n",
       "        vertical-align: middle;\n",
       "    }\n",
       "\n",
       "    .dataframe tbody tr th {\n",
       "        vertical-align: top;\n",
       "    }\n",
       "\n",
       "    .dataframe thead th {\n",
       "        text-align: right;\n",
       "    }\n",
       "</style>\n",
       "<table border=\"1\" class=\"dataframe\">\n",
       "  <thead>\n",
       "    <tr style=\"text-align: right;\">\n",
       "      <th></th>\n",
       "      <th>#</th>\n",
       "      <th>name</th>\n",
       "      <th>type 1</th>\n",
       "      <th>type 2</th>\n",
       "      <th>hp</th>\n",
       "      <th>attack</th>\n",
       "      <th>defense</th>\n",
       "      <th>special-attack</th>\n",
       "      <th>special-defense</th>\n",
       "      <th>speed</th>\n",
       "      <th>generation</th>\n",
       "      <th>legendary</th>\n",
       "      <th>attack_defense</th>\n",
       "      <th>sp_attack_defense</th>\n",
       "      <th>stats-diff</th>\n",
       "    </tr>\n",
       "  </thead>\n",
       "  <tbody>\n",
       "    <tr>\n",
       "      <th>230</th>\n",
       "      <td>213</td>\n",
       "      <td>Shuckle</td>\n",
       "      <td>Bug</td>\n",
       "      <td>Rock</td>\n",
       "      <td>20</td>\n",
       "      <td>10</td>\n",
       "      <td>230</td>\n",
       "      <td>10</td>\n",
       "      <td>230</td>\n",
       "      <td>5</td>\n",
       "      <td>2</td>\n",
       "      <td>False</td>\n",
       "      <td>220</td>\n",
       "      <td>220</td>\n",
       "      <td>-220</td>\n",
       "    </tr>\n",
       "  </tbody>\n",
       "</table>\n",
       "</div>"
      ],
      "text/plain": [
       "       #     name type 1 type 2  hp  attack  defense  special-attack  \\\n",
       "230  213  Shuckle    Bug   Rock  20      10      230              10   \n",
       "\n",
       "     special-defense  speed  generation  legendary  attack_defense  \\\n",
       "230              230      5           2      False             220   \n",
       "\n",
       "     sp_attack_defense  stats-diff  \n",
       "230                220        -220  "
      ]
     },
     "execution_count": 278,
     "metadata": {},
     "output_type": "execute_result"
    }
   ],
   "source": [
    "df.nlargest(1,'attack_defense')"
   ]
  },
  {
   "cell_type": "code",
   "execution_count": 270,
   "id": "d50dfe7c",
   "metadata": {},
   "outputs": [
    {
     "data": {
      "text/html": [
       "<div>\n",
       "<style scoped>\n",
       "    .dataframe tbody tr th:only-of-type {\n",
       "        vertical-align: middle;\n",
       "    }\n",
       "\n",
       "    .dataframe tbody tr th {\n",
       "        vertical-align: top;\n",
       "    }\n",
       "\n",
       "    .dataframe thead th {\n",
       "        text-align: right;\n",
       "    }\n",
       "</style>\n",
       "<table border=\"1\" class=\"dataframe\">\n",
       "  <thead>\n",
       "    <tr style=\"text-align: right;\">\n",
       "      <th></th>\n",
       "      <th>#</th>\n",
       "      <th>name</th>\n",
       "      <th>type 1</th>\n",
       "      <th>type 2</th>\n",
       "      <th>hp</th>\n",
       "      <th>attack</th>\n",
       "      <th>defense</th>\n",
       "      <th>special-attack</th>\n",
       "      <th>special-defense</th>\n",
       "      <th>speed</th>\n",
       "      <th>generation</th>\n",
       "      <th>legendary</th>\n",
       "      <th>attack_defense</th>\n",
       "      <th>sp_attack_defense</th>\n",
       "    </tr>\n",
       "  </thead>\n",
       "  <tbody>\n",
       "    <tr>\n",
       "      <th>773</th>\n",
       "      <td>703</td>\n",
       "      <td>Carbink</td>\n",
       "      <td>Rock</td>\n",
       "      <td>Fairy</td>\n",
       "      <td>50</td>\n",
       "      <td>50</td>\n",
       "      <td>150</td>\n",
       "      <td>50</td>\n",
       "      <td>150</td>\n",
       "      <td>50</td>\n",
       "      <td>6</td>\n",
       "      <td>False</td>\n",
       "      <td>-100</td>\n",
       "      <td>-100</td>\n",
       "    </tr>\n",
       "    <tr>\n",
       "      <th>795</th>\n",
       "      <td>719</td>\n",
       "      <td>Diancie</td>\n",
       "      <td>Rock</td>\n",
       "      <td>Fairy</td>\n",
       "      <td>50</td>\n",
       "      <td>100</td>\n",
       "      <td>150</td>\n",
       "      <td>100</td>\n",
       "      <td>150</td>\n",
       "      <td>50</td>\n",
       "      <td>6</td>\n",
       "      <td>True</td>\n",
       "      <td>-50</td>\n",
       "      <td>-50</td>\n",
       "    </tr>\n",
       "    <tr>\n",
       "      <th>796</th>\n",
       "      <td>719</td>\n",
       "      <td>DiancieMega Diancie</td>\n",
       "      <td>Rock</td>\n",
       "      <td>Fairy</td>\n",
       "      <td>50</td>\n",
       "      <td>160</td>\n",
       "      <td>110</td>\n",
       "      <td>160</td>\n",
       "      <td>110</td>\n",
       "      <td>110</td>\n",
       "      <td>6</td>\n",
       "      <td>True</td>\n",
       "      <td>50</td>\n",
       "      <td>50</td>\n",
       "    </tr>\n",
       "  </tbody>\n",
       "</table>\n",
       "</div>"
      ],
      "text/plain": [
       "       #                 name type 1 type 2  hp  attack  defense  \\\n",
       "773  703              Carbink   Rock  Fairy  50      50      150   \n",
       "795  719              Diancie   Rock  Fairy  50     100      150   \n",
       "796  719  DiancieMega Diancie   Rock  Fairy  50     160      110   \n",
       "\n",
       "     special-attack  special-defense  speed  generation  legendary  \\\n",
       "773              50              150     50           6      False   \n",
       "795             100              150     50           6       True   \n",
       "796             160              110    110           6       True   \n",
       "\n",
       "     attack_defense  sp_attack_defense  \n",
       "773            -100               -100  \n",
       "795             -50                -50  \n",
       "796              50                 50  "
      ]
     },
     "execution_count": 270,
     "metadata": {},
     "output_type": "execute_result"
    }
   ],
   "source": [
    "# 14. How many Pokemon are of Type 1 Rock and Type 2 Fairy\n",
    "df[(df['type 1']=='Rock') & (df['type 2']=='Fairy')]"
   ]
  },
  {
   "cell_type": "code",
   "execution_count": 271,
   "id": "6eb03e2d",
   "metadata": {},
   "outputs": [
    {
     "data": {
      "text/plain": [
       "'Zygarde50% Forme'"
      ]
     },
     "execution_count": 271,
     "metadata": {},
     "output_type": "execute_result"
    }
   ],
   "source": [
    "# 15. Which Pokemon has appears last alphabetically?\n",
    "df.name.max()"
   ]
  },
  {
   "cell_type": "code",
   "execution_count": 272,
   "id": "7b8615b0",
   "metadata": {},
   "outputs": [],
   "source": [
    "def jpt(x,y):\n",
    "    df['stats-diff'] = x - y\n",
    "    return df['stats-diff']"
   ]
  },
  {
   "cell_type": "code",
   "execution_count": 273,
   "id": "6d3a8721",
   "metadata": {},
   "outputs": [
    {
     "data": {
      "text/plain": [
       "0        0\n",
       "1       -1\n",
       "2       -1\n",
       "3      -23\n",
       "4        9\n",
       "      ... \n",
       "795    -50\n",
       "796     50\n",
       "797     50\n",
       "798    100\n",
       "799    -10\n",
       "Name: stats-diff, Length: 800, dtype: int64"
      ]
     },
     "execution_count": 273,
     "metadata": {},
     "output_type": "execute_result"
    }
   ],
   "source": [
    "jpt(df.attack, df.defense)"
   ]
  },
  {
   "cell_type": "code",
   "execution_count": null,
   "id": "c42f5eb5",
   "metadata": {},
   "outputs": [],
   "source": []
  }
 ],
 "metadata": {
  "kernelspec": {
   "display_name": "Python 3 (ipykernel)",
   "language": "python",
   "name": "python3"
  },
  "language_info": {
   "codemirror_mode": {
    "name": "ipython",
    "version": 3
   },
   "file_extension": ".py",
   "mimetype": "text/x-python",
   "name": "python",
   "nbconvert_exporter": "python",
   "pygments_lexer": "ipython3",
   "version": "3.9.13"
  }
 },
 "nbformat": 4,
 "nbformat_minor": 5
}
